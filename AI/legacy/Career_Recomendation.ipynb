{
  "cells": [
    {
      "cell_type": "code",
      "execution_count": 8,
      "metadata": {
        "id": "eln6HjxjDckU"
      },
      "outputs": [],
      "source": [
        "import pandas as pd\n",
        "import numpy as np\n",
        "from sklearn.model_selection import train_test_split\n",
        "from sklearn.preprocessing import LabelEncoder, StandardScaler\n",
        "from tensorflow.keras.models import Sequential\n",
        "from tensorflow.keras.layers import Dense"
      ]
    },
    {
      "cell_type": "code",
      "execution_count": 9,
      "metadata": {
        "id": "q6f-V7nKDqTz"
      },
      "outputs": [],
      "source": [
        "data_tes_df = pd.read_csv('data_tes.csv')"
      ]
    },
    {
      "cell_type": "code",
      "execution_count": 11,
      "metadata": {
        "id": "H26xJ3SeDvPt"
      },
      "outputs": [
        {
          "ename": "KeyError",
          "evalue": "'Career Recommendation'",
          "output_type": "error",
          "traceback": [
            "\u001b[0;31m---------------------------------------------------------------------------\u001b[0m",
            "\u001b[0;31mKeyError\u001b[0m                                  Traceback (most recent call last)",
            "File \u001b[0;32m~/Documents/project/ExamApi/venv/lib/python3.8/site-packages/pandas/core/indexes/base.py:3653\u001b[0m, in \u001b[0;36mIndex.get_loc\u001b[0;34m(self, key)\u001b[0m\n\u001b[1;32m   3652\u001b[0m \u001b[38;5;28;01mtry\u001b[39;00m:\n\u001b[0;32m-> 3653\u001b[0m     \u001b[38;5;28;01mreturn\u001b[39;00m \u001b[38;5;28;43mself\u001b[39;49m\u001b[38;5;241;43m.\u001b[39;49m\u001b[43m_engine\u001b[49m\u001b[38;5;241;43m.\u001b[39;49m\u001b[43mget_loc\u001b[49m\u001b[43m(\u001b[49m\u001b[43mcasted_key\u001b[49m\u001b[43m)\u001b[49m\n\u001b[1;32m   3654\u001b[0m \u001b[38;5;28;01mexcept\u001b[39;00m \u001b[38;5;167;01mKeyError\u001b[39;00m \u001b[38;5;28;01mas\u001b[39;00m err:\n",
            "File \u001b[0;32m~/Documents/project/ExamApi/venv/lib/python3.8/site-packages/pandas/_libs/index.pyx:147\u001b[0m, in \u001b[0;36mpandas._libs.index.IndexEngine.get_loc\u001b[0;34m()\u001b[0m\n",
            "File \u001b[0;32m~/Documents/project/ExamApi/venv/lib/python3.8/site-packages/pandas/_libs/index.pyx:176\u001b[0m, in \u001b[0;36mpandas._libs.index.IndexEngine.get_loc\u001b[0;34m()\u001b[0m\n",
            "File \u001b[0;32mpandas/_libs/hashtable_class_helper.pxi:7080\u001b[0m, in \u001b[0;36mpandas._libs.hashtable.PyObjectHashTable.get_item\u001b[0;34m()\u001b[0m\n",
            "File \u001b[0;32mpandas/_libs/hashtable_class_helper.pxi:7088\u001b[0m, in \u001b[0;36mpandas._libs.hashtable.PyObjectHashTable.get_item\u001b[0;34m()\u001b[0m\n",
            "\u001b[0;31mKeyError\u001b[0m: 'Career Recommendation'",
            "\nThe above exception was the direct cause of the following exception:\n",
            "\u001b[0;31mKeyError\u001b[0m                                  Traceback (most recent call last)",
            "Cell \u001b[0;32mIn[11], line 2\u001b[0m\n\u001b[1;32m      1\u001b[0m label_encoder \u001b[38;5;241m=\u001b[39m LabelEncoder()\n\u001b[0;32m----> 2\u001b[0m data_tes_df[\u001b[38;5;124m'\u001b[39m\u001b[38;5;124mCareer Recommendation\u001b[39m\u001b[38;5;124m'\u001b[39m] \u001b[38;5;241m=\u001b[39m label_encoder\u001b[38;5;241m.\u001b[39mfit_transform(\u001b[43mdata_tes_df\u001b[49m\u001b[43m[\u001b[49m\u001b[38;5;124;43m'\u001b[39;49m\u001b[38;5;124;43mCareer Recommendation\u001b[39;49m\u001b[38;5;124;43m'\u001b[39;49m\u001b[43m]\u001b[49m)\n",
            "File \u001b[0;32m~/Documents/project/ExamApi/venv/lib/python3.8/site-packages/pandas/core/frame.py:3761\u001b[0m, in \u001b[0;36mDataFrame.__getitem__\u001b[0;34m(self, key)\u001b[0m\n\u001b[1;32m   3759\u001b[0m \u001b[38;5;28;01mif\u001b[39;00m \u001b[38;5;28mself\u001b[39m\u001b[38;5;241m.\u001b[39mcolumns\u001b[38;5;241m.\u001b[39mnlevels \u001b[38;5;241m>\u001b[39m \u001b[38;5;241m1\u001b[39m:\n\u001b[1;32m   3760\u001b[0m     \u001b[38;5;28;01mreturn\u001b[39;00m \u001b[38;5;28mself\u001b[39m\u001b[38;5;241m.\u001b[39m_getitem_multilevel(key)\n\u001b[0;32m-> 3761\u001b[0m indexer \u001b[38;5;241m=\u001b[39m \u001b[38;5;28;43mself\u001b[39;49m\u001b[38;5;241;43m.\u001b[39;49m\u001b[43mcolumns\u001b[49m\u001b[38;5;241;43m.\u001b[39;49m\u001b[43mget_loc\u001b[49m\u001b[43m(\u001b[49m\u001b[43mkey\u001b[49m\u001b[43m)\u001b[49m\n\u001b[1;32m   3762\u001b[0m \u001b[38;5;28;01mif\u001b[39;00m is_integer(indexer):\n\u001b[1;32m   3763\u001b[0m     indexer \u001b[38;5;241m=\u001b[39m [indexer]\n",
            "File \u001b[0;32m~/Documents/project/ExamApi/venv/lib/python3.8/site-packages/pandas/core/indexes/base.py:3655\u001b[0m, in \u001b[0;36mIndex.get_loc\u001b[0;34m(self, key)\u001b[0m\n\u001b[1;32m   3653\u001b[0m     \u001b[38;5;28;01mreturn\u001b[39;00m \u001b[38;5;28mself\u001b[39m\u001b[38;5;241m.\u001b[39m_engine\u001b[38;5;241m.\u001b[39mget_loc(casted_key)\n\u001b[1;32m   3654\u001b[0m \u001b[38;5;28;01mexcept\u001b[39;00m \u001b[38;5;167;01mKeyError\u001b[39;00m \u001b[38;5;28;01mas\u001b[39;00m err:\n\u001b[0;32m-> 3655\u001b[0m     \u001b[38;5;28;01mraise\u001b[39;00m \u001b[38;5;167;01mKeyError\u001b[39;00m(key) \u001b[38;5;28;01mfrom\u001b[39;00m \u001b[38;5;21;01merr\u001b[39;00m\n\u001b[1;32m   3656\u001b[0m \u001b[38;5;28;01mexcept\u001b[39;00m \u001b[38;5;167;01mTypeError\u001b[39;00m:\n\u001b[1;32m   3657\u001b[0m     \u001b[38;5;66;03m# If we have a listlike key, _check_indexing_error will raise\u001b[39;00m\n\u001b[1;32m   3658\u001b[0m     \u001b[38;5;66;03m#  InvalidIndexError. Otherwise we fall through and re-raise\u001b[39;00m\n\u001b[1;32m   3659\u001b[0m     \u001b[38;5;66;03m#  the TypeError.\u001b[39;00m\n\u001b[1;32m   3660\u001b[0m     \u001b[38;5;28mself\u001b[39m\u001b[38;5;241m.\u001b[39m_check_indexing_error(key)\n",
            "\u001b[0;31mKeyError\u001b[0m: 'Career Recommendation'"
          ]
        }
      ],
      "source": [
        "label_encoder = LabelEncoder()\n",
        "data_tes_df['Career Recommendation'] = label_encoder.fit_transform(data_tes_df['Career Recommendation'])"
      ]
    },
    {
      "cell_type": "code",
      "execution_count": null,
      "metadata": {
        "id": "uC8bEAs-EaNe"
      },
      "outputs": [],
      "source": [
        "X_train, X_test, y_train, y_test = train_test_split(\n",
        "    data_tes_df.drop('Career Recommendation', axis=1),\n",
        "    data_tes_df['Career Recommendation'],\n",
        "    test_size=0.2, random_state=42\n",
        ")"
      ]
    },
    {
      "cell_type": "code",
      "execution_count": null,
      "metadata": {
        "id": "-ICLwDQgEg5O"
      },
      "outputs": [],
      "source": [
        "scaler = StandardScaler()\n",
        "X_train_normalized = scaler.fit_transform(X_train)\n",
        "X_test_normalized = scaler.transform(X_test)"
      ]
    },
    {
      "cell_type": "code",
      "execution_count": null,
      "metadata": {
        "id": "i7mKWWTFEkIe"
      },
      "outputs": [],
      "source": [
        "model = Sequential()\n",
        "model.add(Dense(64, input_dim=X_train.shape[1], activation='relu'))\n",
        "model.add(Dense(32, activation='relu'))\n",
        "model.add(Dense(len(data_tes_df['Career Recommendation'].unique()), activation='softmax'))"
      ]
    },
    {
      "cell_type": "code",
      "execution_count": null,
      "metadata": {
        "id": "LsbNazFbEmpe"
      },
      "outputs": [],
      "source": [
        "model.compile(optimizer='adam', loss='sparse_categorical_crossentropy', metrics=['accuracy'])"
      ]
    },
    {
      "cell_type": "code",
      "execution_count": null,
      "metadata": {
        "colab": {
          "base_uri": "https://localhost:8080/"
        },
        "id": "esHEWqsXEpal",
        "outputId": "281753c3-875c-4ab8-84f4-f5b92d130265"
      },
      "outputs": [
        {
          "name": "stdout",
          "output_type": "stream",
          "text": [
            "Epoch 1/50\n",
            "16/16 [==============================] - 2s 21ms/step - loss: 2.1165 - accuracy: 0.0000e+00 - val_loss: 1.9689 - val_accuracy: 0.3750\n",
            "Epoch 2/50\n",
            "16/16 [==============================] - 0s 5ms/step - loss: 1.9626 - accuracy: 0.1562 - val_loss: 1.8438 - val_accuracy: 0.5000\n",
            "Epoch 3/50\n",
            "16/16 [==============================] - 0s 4ms/step - loss: 1.8427 - accuracy: 0.3750 - val_loss: 1.7347 - val_accuracy: 0.5000\n",
            "Epoch 4/50\n",
            "16/16 [==============================] - 0s 4ms/step - loss: 1.7295 - accuracy: 0.6562 - val_loss: 1.6338 - val_accuracy: 0.7500\n",
            "Epoch 5/50\n",
            "16/16 [==============================] - 0s 5ms/step - loss: 1.6170 - accuracy: 0.7188 - val_loss: 1.5201 - val_accuracy: 0.7500\n",
            "Epoch 6/50\n",
            "16/16 [==============================] - 0s 6ms/step - loss: 1.5009 - accuracy: 0.8125 - val_loss: 1.4276 - val_accuracy: 0.7500\n",
            "Epoch 7/50\n",
            "16/16 [==============================] - 0s 4ms/step - loss: 1.3760 - accuracy: 0.8438 - val_loss: 1.3248 - val_accuracy: 0.7500\n",
            "Epoch 8/50\n",
            "16/16 [==============================] - 0s 5ms/step - loss: 1.2573 - accuracy: 0.8438 - val_loss: 1.2273 - val_accuracy: 0.7500\n",
            "Epoch 9/50\n",
            "16/16 [==============================] - 0s 5ms/step - loss: 1.1304 - accuracy: 0.8750 - val_loss: 1.1332 - val_accuracy: 0.8750\n",
            "Epoch 10/50\n",
            "16/16 [==============================] - 0s 4ms/step - loss: 1.0083 - accuracy: 0.9688 - val_loss: 1.0431 - val_accuracy: 0.8750\n",
            "Epoch 11/50\n",
            "16/16 [==============================] - 0s 5ms/step - loss: 0.8942 - accuracy: 0.9688 - val_loss: 0.9693 - val_accuracy: 0.8750\n",
            "Epoch 12/50\n",
            "16/16 [==============================] - 0s 5ms/step - loss: 0.7760 - accuracy: 0.9688 - val_loss: 0.9203 - val_accuracy: 0.8750\n",
            "Epoch 13/50\n",
            "16/16 [==============================] - 0s 5ms/step - loss: 0.6774 - accuracy: 0.9688 - val_loss: 0.8445 - val_accuracy: 0.8750\n",
            "Epoch 14/50\n",
            "16/16 [==============================] - 0s 5ms/step - loss: 0.5821 - accuracy: 0.9688 - val_loss: 0.7787 - val_accuracy: 0.8750\n",
            "Epoch 15/50\n",
            "16/16 [==============================] - 0s 4ms/step - loss: 0.4924 - accuracy: 0.9688 - val_loss: 0.7022 - val_accuracy: 1.0000\n",
            "Epoch 16/50\n",
            "16/16 [==============================] - 0s 4ms/step - loss: 0.4164 - accuracy: 1.0000 - val_loss: 0.6170 - val_accuracy: 1.0000\n",
            "Epoch 17/50\n",
            "16/16 [==============================] - 0s 5ms/step - loss: 0.3520 - accuracy: 1.0000 - val_loss: 0.5634 - val_accuracy: 1.0000\n",
            "Epoch 18/50\n",
            "16/16 [==============================] - 0s 4ms/step - loss: 0.2975 - accuracy: 1.0000 - val_loss: 0.5125 - val_accuracy: 1.0000\n",
            "Epoch 19/50\n",
            "16/16 [==============================] - 0s 5ms/step - loss: 0.2560 - accuracy: 1.0000 - val_loss: 0.4853 - val_accuracy: 0.8750\n",
            "Epoch 20/50\n",
            "16/16 [==============================] - 0s 4ms/step - loss: 0.2187 - accuracy: 1.0000 - val_loss: 0.4480 - val_accuracy: 1.0000\n",
            "Epoch 21/50\n",
            "16/16 [==============================] - 0s 6ms/step - loss: 0.1860 - accuracy: 1.0000 - val_loss: 0.4199 - val_accuracy: 0.8750\n",
            "Epoch 22/50\n",
            "16/16 [==============================] - 0s 5ms/step - loss: 0.1605 - accuracy: 1.0000 - val_loss: 0.3814 - val_accuracy: 1.0000\n",
            "Epoch 23/50\n",
            "16/16 [==============================] - 0s 4ms/step - loss: 0.1393 - accuracy: 1.0000 - val_loss: 0.3675 - val_accuracy: 1.0000\n",
            "Epoch 24/50\n",
            "16/16 [==============================] - 0s 5ms/step - loss: 0.1220 - accuracy: 1.0000 - val_loss: 0.3440 - val_accuracy: 1.0000\n",
            "Epoch 25/50\n",
            "16/16 [==============================] - 0s 6ms/step - loss: 0.1068 - accuracy: 1.0000 - val_loss: 0.3279 - val_accuracy: 1.0000\n",
            "Epoch 26/50\n",
            "16/16 [==============================] - 0s 5ms/step - loss: 0.0939 - accuracy: 1.0000 - val_loss: 0.3057 - val_accuracy: 1.0000\n",
            "Epoch 27/50\n",
            "16/16 [==============================] - 0s 4ms/step - loss: 0.0840 - accuracy: 1.0000 - val_loss: 0.2883 - val_accuracy: 1.0000\n",
            "Epoch 28/50\n",
            "16/16 [==============================] - 0s 4ms/step - loss: 0.0753 - accuracy: 1.0000 - val_loss: 0.2815 - val_accuracy: 1.0000\n",
            "Epoch 29/50\n",
            "16/16 [==============================] - 0s 4ms/step - loss: 0.0675 - accuracy: 1.0000 - val_loss: 0.2751 - val_accuracy: 1.0000\n",
            "Epoch 30/50\n",
            "16/16 [==============================] - 0s 5ms/step - loss: 0.0608 - accuracy: 1.0000 - val_loss: 0.2666 - val_accuracy: 1.0000\n",
            "Epoch 31/50\n",
            "16/16 [==============================] - 0s 4ms/step - loss: 0.0559 - accuracy: 1.0000 - val_loss: 0.2563 - val_accuracy: 1.0000\n",
            "Epoch 32/50\n",
            "16/16 [==============================] - 0s 5ms/step - loss: 0.0505 - accuracy: 1.0000 - val_loss: 0.2453 - val_accuracy: 1.0000\n",
            "Epoch 33/50\n",
            "16/16 [==============================] - 0s 5ms/step - loss: 0.0462 - accuracy: 1.0000 - val_loss: 0.2354 - val_accuracy: 1.0000\n",
            "Epoch 34/50\n",
            "16/16 [==============================] - 0s 4ms/step - loss: 0.0424 - accuracy: 1.0000 - val_loss: 0.2319 - val_accuracy: 1.0000\n",
            "Epoch 35/50\n",
            "16/16 [==============================] - 0s 4ms/step - loss: 0.0391 - accuracy: 1.0000 - val_loss: 0.2245 - val_accuracy: 1.0000\n",
            "Epoch 36/50\n",
            "16/16 [==============================] - 0s 4ms/step - loss: 0.0364 - accuracy: 1.0000 - val_loss: 0.2227 - val_accuracy: 1.0000\n",
            "Epoch 37/50\n",
            "16/16 [==============================] - 0s 6ms/step - loss: 0.0340 - accuracy: 1.0000 - val_loss: 0.2146 - val_accuracy: 1.0000\n",
            "Epoch 38/50\n",
            "16/16 [==============================] - 0s 4ms/step - loss: 0.0315 - accuracy: 1.0000 - val_loss: 0.2116 - val_accuracy: 1.0000\n",
            "Epoch 39/50\n",
            "16/16 [==============================] - 0s 4ms/step - loss: 0.0293 - accuracy: 1.0000 - val_loss: 0.2070 - val_accuracy: 1.0000\n",
            "Epoch 40/50\n",
            "16/16 [==============================] - 0s 4ms/step - loss: 0.0274 - accuracy: 1.0000 - val_loss: 0.2035 - val_accuracy: 1.0000\n",
            "Epoch 41/50\n",
            "16/16 [==============================] - 0s 5ms/step - loss: 0.0257 - accuracy: 1.0000 - val_loss: 0.2030 - val_accuracy: 1.0000\n",
            "Epoch 42/50\n",
            "16/16 [==============================] - 0s 5ms/step - loss: 0.0242 - accuracy: 1.0000 - val_loss: 0.2004 - val_accuracy: 1.0000\n",
            "Epoch 43/50\n",
            "16/16 [==============================] - 0s 4ms/step - loss: 0.0227 - accuracy: 1.0000 - val_loss: 0.1914 - val_accuracy: 1.0000\n",
            "Epoch 44/50\n",
            "16/16 [==============================] - 0s 5ms/step - loss: 0.0214 - accuracy: 1.0000 - val_loss: 0.1871 - val_accuracy: 1.0000\n",
            "Epoch 45/50\n",
            "16/16 [==============================] - 0s 5ms/step - loss: 0.0203 - accuracy: 1.0000 - val_loss: 0.1868 - val_accuracy: 1.0000\n",
            "Epoch 46/50\n",
            "16/16 [==============================] - 0s 6ms/step - loss: 0.0192 - accuracy: 1.0000 - val_loss: 0.1812 - val_accuracy: 1.0000\n",
            "Epoch 47/50\n",
            "16/16 [==============================] - 0s 4ms/step - loss: 0.0181 - accuracy: 1.0000 - val_loss: 0.1823 - val_accuracy: 1.0000\n",
            "Epoch 48/50\n",
            "16/16 [==============================] - 0s 6ms/step - loss: 0.0173 - accuracy: 1.0000 - val_loss: 0.1813 - val_accuracy: 1.0000\n",
            "Epoch 49/50\n",
            "16/16 [==============================] - 0s 5ms/step - loss: 0.0163 - accuracy: 1.0000 - val_loss: 0.1790 - val_accuracy: 1.0000\n",
            "Epoch 50/50\n",
            "16/16 [==============================] - 0s 5ms/step - loss: 0.0155 - accuracy: 1.0000 - val_loss: 0.1741 - val_accuracy: 1.0000\n"
          ]
        },
        {
          "data": {
            "text/plain": [
              "<keras.src.callbacks.History at 0x7c206cd25c00>"
            ]
          },
          "execution_count": 10,
          "metadata": {},
          "output_type": "execute_result"
        }
      ],
      "source": [
        "model.fit(X_train_normalized, y_train, epochs=50, batch_size=2, validation_data=(X_test_normalized, y_test))"
      ]
    },
    {
      "cell_type": "markdown",
      "metadata": {
        "id": "HCK5TX96GmnC"
      },
      "source": [
        " ...."
      ]
    },
    {
      "cell_type": "markdown",
      "metadata": {
        "id": "YPF0Cd8vGVgX"
      },
      "source": [
        "Tes Input nilai user baru"
      ]
    },
    {
      "cell_type": "code",
      "execution_count": null,
      "metadata": {
        "id": "7rhbmVHxFJgH"
      },
      "outputs": [],
      "source": [
        "new_user_data = np.array([4, 3, 2, 2, 5, 2, 2, 2]).reshape(1, -1)"
      ]
    },
    {
      "cell_type": "code",
      "execution_count": null,
      "metadata": {
        "colab": {
          "base_uri": "https://localhost:8080/"
        },
        "id": "gPcSAtRYFNF0",
        "outputId": "d7cf87ab-c5d0-4780-88b5-342157f0fb6a"
      },
      "outputs": [
        {
          "name": "stderr",
          "output_type": "stream",
          "text": [
            "/usr/local/lib/python3.10/dist-packages/sklearn/base.py:439: UserWarning: X does not have valid feature names, but StandardScaler was fitted with feature names\n",
            "  warnings.warn(\n"
          ]
        }
      ],
      "source": [
        "new_user_data_normalized = scaler.transform(new_user_data)"
      ]
    },
    {
      "cell_type": "code",
      "execution_count": null,
      "metadata": {
        "colab": {
          "base_uri": "https://localhost:8080/"
        },
        "id": "ysMqT1afFPds",
        "outputId": "4c5a4775-b06c-43e0-bea4-015cc74290b6"
      },
      "outputs": [
        {
          "name": "stdout",
          "output_type": "stream",
          "text": [
            "1/1 [==============================] - 0s 87ms/step\n"
          ]
        }
      ],
      "source": [
        "new_user_prediction = model.predict(new_user_data_normalized)"
      ]
    },
    {
      "cell_type": "code",
      "execution_count": null,
      "metadata": {
        "colab": {
          "base_uri": "https://localhost:8080/"
        },
        "id": "slpW7vPOFSqN",
        "outputId": "c6216105-dacc-4e64-95e6-11f41fa9ad9e"
      },
      "outputs": [
        {
          "name": "stdout",
          "output_type": "stream",
          "text": [
            "\n",
            "Career recommendation : Musician, Composer\n"
          ]
        }
      ],
      "source": [
        "predicted_class_index = np.argmax(new_user_prediction, axis=1)\n",
        "predicted_class = label_encoder.inverse_transform(predicted_class_index)[0]\n",
        "\n",
        "print(\"\\nCareer recommendation :\", predicted_class)"
      ]
    },
    {
      "cell_type": "code",
      "execution_count": null,
      "metadata": {
        "colab": {
          "base_uri": "https://localhost:8080/"
        },
        "id": "nrzP1R46yeOS",
        "outputId": "51abad59-b1e3-481e-d6c2-b3899de75283"
      },
      "outputs": [
        {
          "name": "stderr",
          "output_type": "stream",
          "text": [
            "/usr/local/lib/python3.10/dist-packages/keras/src/engine/training.py:3079: UserWarning: You are saving your model as an HDF5 file via `model.save()`. This file format is considered legacy. We recommend using instead the native Keras format, e.g. `model.save('my_model.keras')`.\n",
            "  saving_api.save_model(\n"
          ]
        }
      ],
      "source": [
        "model.save('model.h5')"
      ]
    }
  ],
  "metadata": {
    "colab": {
      "provenance": []
    },
    "kernelspec": {
      "display_name": "Python 3",
      "name": "python3"
    },
    "language_info": {
      "codemirror_mode": {
        "name": "ipython",
        "version": 3
      },
      "file_extension": ".py",
      "mimetype": "text/x-python",
      "name": "python",
      "nbconvert_exporter": "python",
      "pygments_lexer": "ipython3",
      "version": "3.8.18"
    }
  },
  "nbformat": 4,
  "nbformat_minor": 0
}
